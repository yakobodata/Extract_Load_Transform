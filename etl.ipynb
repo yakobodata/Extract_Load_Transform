{
 "cells": [
  {
   "cell_type": "markdown",
   "metadata": {},
   "source": [
    "## Required Python Libraries\n",
    "Firstly we are going to install a couple of python libraries that will help us to execute the Extract Transform and Load Process . What we do is that we list all the Libraries in a file called 'requirements.txt'\n",
    "the libraries include."
   ]
  },
  {
   "cell_type": "raw",
   "metadata": {},
   "source": [
    "pandas\n",
    "numpy\n",
    "mysql.connector\n",
    "google-cloud\n",
    "pyarrow"
   ]
  },
  {
   "cell_type": "markdown",
   "metadata": {},
   "source": [
    "To install the above libraries , we run a python command"
   ]
  },
  {
   "cell_type": "code",
   "execution_count": 1,
   "metadata": {},
   "outputs": [
    {
     "name": "stdout",
     "output_type": "stream",
     "text": [
      "Requirement already satisfied: pandas in c:\\users\\jacob\\anaconda3\\lib\\site-packages (from -r requirements.txt (line 1)) (2.0.3)\n",
      "Requirement already satisfied: numpy in c:\\users\\jacob\\anaconda3\\lib\\site-packages (from -r requirements.txt (line 2)) (1.24.3)\n",
      "Requirement already satisfied: mysql.connector in c:\\users\\jacob\\anaconda3\\lib\\site-packages (from -r requirements.txt (line 3)) (2.2.9)\n",
      "Requirement already satisfied: google-cloud in c:\\users\\jacob\\anaconda3\\lib\\site-packages (from -r requirements.txt (line 4)) (0.34.0)\n",
      "Requirement already satisfied: pyarrow in c:\\users\\jacob\\anaconda3\\lib\\site-packages (from -r requirements.txt (line 5)) (11.0.0)\n",
      "Requirement already satisfied: python-dateutil>=2.8.2 in c:\\users\\jacob\\anaconda3\\lib\\site-packages (from pandas->-r requirements.txt (line 1)) (2.8.2)\n",
      "Requirement already satisfied: pytz>=2020.1 in c:\\users\\jacob\\anaconda3\\lib\\site-packages (from pandas->-r requirements.txt (line 1)) (2023.3.post1)\n",
      "Requirement already satisfied: tzdata>=2022.1 in c:\\users\\jacob\\anaconda3\\lib\\site-packages (from pandas->-r requirements.txt (line 1)) (2023.3)\n",
      "Requirement already satisfied: six>=1.5 in c:\\users\\jacob\\anaconda3\\lib\\site-packages (from python-dateutil>=2.8.2->pandas->-r requirements.txt (line 1)) (1.16.0)\n",
      "Note: you may need to restart the kernel to use updated packages.\n"
     ]
    }
   ],
   "source": [
    "pip install -r requirements.txt"
   ]
  }
 ],
 "metadata": {
  "kernelspec": {
   "display_name": "base",
   "language": "python",
   "name": "python3"
  },
  "language_info": {
   "codemirror_mode": {
    "name": "ipython",
    "version": 3
   },
   "file_extension": ".py",
   "mimetype": "text/x-python",
   "name": "python",
   "nbconvert_exporter": "python",
   "pygments_lexer": "ipython3",
   "version": "3.11.5"
  }
 },
 "nbformat": 4,
 "nbformat_minor": 2
}
